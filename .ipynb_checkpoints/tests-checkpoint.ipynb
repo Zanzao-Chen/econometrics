{
 "cells": [
  {
   "cell_type": "code",
   "execution_count": 20,
   "id": "c149a845",
   "metadata": {},
   "outputs": [],
   "source": [
    "import matplotlib.pyplot as plt\n",
    "import pandas as pd\n",
    "from statsmodels.graphics.tsaplots import plot_acf\n",
    "from statsmodels.tsa.stattools import adfuller\n",
    "from arch.unitroot import PhillipsPerron\n",
    "import numpy as np\n",
    "from statsmodels.tsa.vector_ar.vecm import coint_johansen"
   ]
  },
  {
   "cell_type": "code",
   "execution_count": 43,
   "id": "28d50a38",
   "metadata": {},
   "outputs": [
    {
     "ename": "BadZipFile",
     "evalue": "File is not a zip file",
     "output_type": "error",
     "traceback": [
      "\u001b[1;31m---------------------------------------------------------------------------\u001b[0m",
      "\u001b[1;31mBadZipFile\u001b[0m                                Traceback (most recent call last)",
      "Cell \u001b[1;32mIn[43], line 2\u001b[0m\n\u001b[0;32m      1\u001b[0m \u001b[38;5;66;03m# Input the csv data\u001b[39;00m\n\u001b[1;32m----> 2\u001b[0m data \u001b[38;5;241m=\u001b[39m \u001b[43mpd\u001b[49m\u001b[38;5;241;43m.\u001b[39;49m\u001b[43mread_excel\u001b[49m\u001b[43m(\u001b[49m\u001b[38;5;124;43m\"\u001b[39;49m\u001b[38;5;124;43mraw data.csv\u001b[39;49m\u001b[38;5;124;43m\"\u001b[39;49m\u001b[43m,\u001b[49m\u001b[43m \u001b[49m\u001b[43msheet_name\u001b[49m\u001b[43m \u001b[49m\u001b[38;5;241;43m=\u001b[39;49m\u001b[43m \u001b[49m\u001b[38;5;124;43m\"\u001b[39;49m\u001b[38;5;124;43mFinal data\u001b[39;49m\u001b[38;5;124;43m\"\u001b[39;49m\u001b[43m,\u001b[49m\u001b[43m \u001b[49m\u001b[43mengine\u001b[49m\u001b[38;5;241;43m=\u001b[39;49m\u001b[38;5;124;43m'\u001b[39;49m\u001b[38;5;124;43mopenpyxl\u001b[39;49m\u001b[38;5;124;43m'\u001b[39;49m\u001b[43m)\u001b[49m\n\u001b[0;32m      4\u001b[0m years \u001b[38;5;241m=\u001b[39m data[\u001b[38;5;124m'\u001b[39m\u001b[38;5;124mYear\u001b[39m\u001b[38;5;124m'\u001b[39m]\n\u001b[0;32m      5\u001b[0m inflation_expectations \u001b[38;5;241m=\u001b[39m data[\u001b[38;5;124m'\u001b[39m\u001b[38;5;124mInflation expectations\u001b[39m\u001b[38;5;124m'\u001b[39m]\n",
      "File \u001b[1;32m~\\AppData\\Roaming\\Python\\Python310\\site-packages\\pandas\\util\\_decorators.py:211\u001b[0m, in \u001b[0;36mdeprecate_kwarg.<locals>._deprecate_kwarg.<locals>.wrapper\u001b[1;34m(*args, **kwargs)\u001b[0m\n\u001b[0;32m    209\u001b[0m     \u001b[38;5;28;01melse\u001b[39;00m:\n\u001b[0;32m    210\u001b[0m         kwargs[new_arg_name] \u001b[38;5;241m=\u001b[39m new_arg_value\n\u001b[1;32m--> 211\u001b[0m \u001b[38;5;28;01mreturn\u001b[39;00m func(\u001b[38;5;241m*\u001b[39margs, \u001b[38;5;241m*\u001b[39m\u001b[38;5;241m*\u001b[39mkwargs)\n",
      "File \u001b[1;32m~\\AppData\\Roaming\\Python\\Python310\\site-packages\\pandas\\util\\_decorators.py:331\u001b[0m, in \u001b[0;36mdeprecate_nonkeyword_arguments.<locals>.decorate.<locals>.wrapper\u001b[1;34m(*args, **kwargs)\u001b[0m\n\u001b[0;32m    325\u001b[0m \u001b[38;5;28;01mif\u001b[39;00m \u001b[38;5;28mlen\u001b[39m(args) \u001b[38;5;241m>\u001b[39m num_allow_args:\n\u001b[0;32m    326\u001b[0m     warnings\u001b[38;5;241m.\u001b[39mwarn(\n\u001b[0;32m    327\u001b[0m         msg\u001b[38;5;241m.\u001b[39mformat(arguments\u001b[38;5;241m=\u001b[39m_format_argument_list(allow_args)),\n\u001b[0;32m    328\u001b[0m         \u001b[38;5;167;01mFutureWarning\u001b[39;00m,\n\u001b[0;32m    329\u001b[0m         stacklevel\u001b[38;5;241m=\u001b[39mfind_stack_level(),\n\u001b[0;32m    330\u001b[0m     )\n\u001b[1;32m--> 331\u001b[0m \u001b[38;5;28;01mreturn\u001b[39;00m func(\u001b[38;5;241m*\u001b[39margs, \u001b[38;5;241m*\u001b[39m\u001b[38;5;241m*\u001b[39mkwargs)\n",
      "File \u001b[1;32m~\\AppData\\Roaming\\Python\\Python310\\site-packages\\pandas\\io\\excel\\_base.py:482\u001b[0m, in \u001b[0;36mread_excel\u001b[1;34m(io, sheet_name, header, names, index_col, usecols, squeeze, dtype, engine, converters, true_values, false_values, skiprows, nrows, na_values, keep_default_na, na_filter, verbose, parse_dates, date_parser, thousands, decimal, comment, skipfooter, convert_float, mangle_dupe_cols, storage_options)\u001b[0m\n\u001b[0;32m    480\u001b[0m \u001b[38;5;28;01mif\u001b[39;00m \u001b[38;5;129;01mnot\u001b[39;00m \u001b[38;5;28misinstance\u001b[39m(io, ExcelFile):\n\u001b[0;32m    481\u001b[0m     should_close \u001b[38;5;241m=\u001b[39m \u001b[38;5;28;01mTrue\u001b[39;00m\n\u001b[1;32m--> 482\u001b[0m     io \u001b[38;5;241m=\u001b[39m \u001b[43mExcelFile\u001b[49m\u001b[43m(\u001b[49m\u001b[43mio\u001b[49m\u001b[43m,\u001b[49m\u001b[43m \u001b[49m\u001b[43mstorage_options\u001b[49m\u001b[38;5;241;43m=\u001b[39;49m\u001b[43mstorage_options\u001b[49m\u001b[43m,\u001b[49m\u001b[43m \u001b[49m\u001b[43mengine\u001b[49m\u001b[38;5;241;43m=\u001b[39;49m\u001b[43mengine\u001b[49m\u001b[43m)\u001b[49m\n\u001b[0;32m    483\u001b[0m \u001b[38;5;28;01melif\u001b[39;00m engine \u001b[38;5;129;01mand\u001b[39;00m engine \u001b[38;5;241m!=\u001b[39m io\u001b[38;5;241m.\u001b[39mengine:\n\u001b[0;32m    484\u001b[0m     \u001b[38;5;28;01mraise\u001b[39;00m \u001b[38;5;167;01mValueError\u001b[39;00m(\n\u001b[0;32m    485\u001b[0m         \u001b[38;5;124m\"\u001b[39m\u001b[38;5;124mEngine should not be specified when passing \u001b[39m\u001b[38;5;124m\"\u001b[39m\n\u001b[0;32m    486\u001b[0m         \u001b[38;5;124m\"\u001b[39m\u001b[38;5;124man ExcelFile - ExcelFile already has the engine set\u001b[39m\u001b[38;5;124m\"\u001b[39m\n\u001b[0;32m    487\u001b[0m     )\n",
      "File \u001b[1;32m~\\AppData\\Roaming\\Python\\Python310\\site-packages\\pandas\\io\\excel\\_base.py:1695\u001b[0m, in \u001b[0;36mExcelFile.__init__\u001b[1;34m(self, path_or_buffer, engine, storage_options)\u001b[0m\n\u001b[0;32m   1692\u001b[0m \u001b[38;5;28mself\u001b[39m\u001b[38;5;241m.\u001b[39mengine \u001b[38;5;241m=\u001b[39m engine\n\u001b[0;32m   1693\u001b[0m \u001b[38;5;28mself\u001b[39m\u001b[38;5;241m.\u001b[39mstorage_options \u001b[38;5;241m=\u001b[39m storage_options\n\u001b[1;32m-> 1695\u001b[0m \u001b[38;5;28mself\u001b[39m\u001b[38;5;241m.\u001b[39m_reader \u001b[38;5;241m=\u001b[39m \u001b[38;5;28;43mself\u001b[39;49m\u001b[38;5;241;43m.\u001b[39;49m\u001b[43m_engines\u001b[49m\u001b[43m[\u001b[49m\u001b[43mengine\u001b[49m\u001b[43m]\u001b[49m\u001b[43m(\u001b[49m\u001b[38;5;28;43mself\u001b[39;49m\u001b[38;5;241;43m.\u001b[39;49m\u001b[43m_io\u001b[49m\u001b[43m,\u001b[49m\u001b[43m \u001b[49m\u001b[43mstorage_options\u001b[49m\u001b[38;5;241;43m=\u001b[39;49m\u001b[43mstorage_options\u001b[49m\u001b[43m)\u001b[49m\n",
      "File \u001b[1;32m~\\AppData\\Roaming\\Python\\Python310\\site-packages\\pandas\\io\\excel\\_openpyxl.py:557\u001b[0m, in \u001b[0;36mOpenpyxlReader.__init__\u001b[1;34m(self, filepath_or_buffer, storage_options)\u001b[0m\n\u001b[0;32m    547\u001b[0m \u001b[38;5;250m\u001b[39m\u001b[38;5;124;03m\"\"\"\u001b[39;00m\n\u001b[0;32m    548\u001b[0m \u001b[38;5;124;03mReader using openpyxl engine.\u001b[39;00m\n\u001b[0;32m    549\u001b[0m \n\u001b[1;32m   (...)\u001b[0m\n\u001b[0;32m    554\u001b[0m \u001b[38;5;124;03m{storage_options}\u001b[39;00m\n\u001b[0;32m    555\u001b[0m \u001b[38;5;124;03m\"\"\"\u001b[39;00m\n\u001b[0;32m    556\u001b[0m import_optional_dependency(\u001b[38;5;124m\"\u001b[39m\u001b[38;5;124mopenpyxl\u001b[39m\u001b[38;5;124m\"\u001b[39m)\n\u001b[1;32m--> 557\u001b[0m \u001b[38;5;28;43msuper\u001b[39;49m\u001b[43m(\u001b[49m\u001b[43m)\u001b[49m\u001b[38;5;241;43m.\u001b[39;49m\u001b[38;5;21;43m__init__\u001b[39;49m\u001b[43m(\u001b[49m\u001b[43mfilepath_or_buffer\u001b[49m\u001b[43m,\u001b[49m\u001b[43m \u001b[49m\u001b[43mstorage_options\u001b[49m\u001b[38;5;241;43m=\u001b[39;49m\u001b[43mstorage_options\u001b[49m\u001b[43m)\u001b[49m\n",
      "File \u001b[1;32m~\\AppData\\Roaming\\Python\\Python310\\site-packages\\pandas\\io\\excel\\_base.py:545\u001b[0m, in \u001b[0;36mBaseExcelReader.__init__\u001b[1;34m(self, filepath_or_buffer, storage_options)\u001b[0m\n\u001b[0;32m    543\u001b[0m \u001b[38;5;28mself\u001b[39m\u001b[38;5;241m.\u001b[39mhandles\u001b[38;5;241m.\u001b[39mhandle\u001b[38;5;241m.\u001b[39mseek(\u001b[38;5;241m0\u001b[39m)\n\u001b[0;32m    544\u001b[0m \u001b[38;5;28;01mtry\u001b[39;00m:\n\u001b[1;32m--> 545\u001b[0m     \u001b[38;5;28mself\u001b[39m\u001b[38;5;241m.\u001b[39mbook \u001b[38;5;241m=\u001b[39m \u001b[38;5;28;43mself\u001b[39;49m\u001b[38;5;241;43m.\u001b[39;49m\u001b[43mload_workbook\u001b[49m\u001b[43m(\u001b[49m\u001b[38;5;28;43mself\u001b[39;49m\u001b[38;5;241;43m.\u001b[39;49m\u001b[43mhandles\u001b[49m\u001b[38;5;241;43m.\u001b[39;49m\u001b[43mhandle\u001b[49m\u001b[43m)\u001b[49m\n\u001b[0;32m    546\u001b[0m \u001b[38;5;28;01mexcept\u001b[39;00m \u001b[38;5;167;01mException\u001b[39;00m:\n\u001b[0;32m    547\u001b[0m     \u001b[38;5;28mself\u001b[39m\u001b[38;5;241m.\u001b[39mclose()\n",
      "File \u001b[1;32m~\\AppData\\Roaming\\Python\\Python310\\site-packages\\pandas\\io\\excel\\_openpyxl.py:568\u001b[0m, in \u001b[0;36mOpenpyxlReader.load_workbook\u001b[1;34m(self, filepath_or_buffer)\u001b[0m\n\u001b[0;32m    565\u001b[0m \u001b[38;5;28;01mdef\u001b[39;00m \u001b[38;5;21mload_workbook\u001b[39m(\u001b[38;5;28mself\u001b[39m, filepath_or_buffer: FilePath \u001b[38;5;241m|\u001b[39m ReadBuffer[\u001b[38;5;28mbytes\u001b[39m]):\n\u001b[0;32m    566\u001b[0m     \u001b[38;5;28;01mfrom\u001b[39;00m \u001b[38;5;21;01mopenpyxl\u001b[39;00m \u001b[38;5;28;01mimport\u001b[39;00m load_workbook\n\u001b[1;32m--> 568\u001b[0m     \u001b[38;5;28;01mreturn\u001b[39;00m \u001b[43mload_workbook\u001b[49m\u001b[43m(\u001b[49m\n\u001b[0;32m    569\u001b[0m \u001b[43m        \u001b[49m\u001b[43mfilepath_or_buffer\u001b[49m\u001b[43m,\u001b[49m\u001b[43m \u001b[49m\u001b[43mread_only\u001b[49m\u001b[38;5;241;43m=\u001b[39;49m\u001b[38;5;28;43;01mTrue\u001b[39;49;00m\u001b[43m,\u001b[49m\u001b[43m \u001b[49m\u001b[43mdata_only\u001b[49m\u001b[38;5;241;43m=\u001b[39;49m\u001b[38;5;28;43;01mTrue\u001b[39;49;00m\u001b[43m,\u001b[49m\u001b[43m \u001b[49m\u001b[43mkeep_links\u001b[49m\u001b[38;5;241;43m=\u001b[39;49m\u001b[38;5;28;43;01mFalse\u001b[39;49;00m\n\u001b[0;32m    570\u001b[0m \u001b[43m    \u001b[49m\u001b[43m)\u001b[49m\n",
      "File \u001b[1;32m~\\AppData\\Roaming\\Python\\Python310\\site-packages\\openpyxl\\reader\\excel.py:344\u001b[0m, in \u001b[0;36mload_workbook\u001b[1;34m(filename, read_only, keep_vba, data_only, keep_links, rich_text)\u001b[0m\n\u001b[0;32m    314\u001b[0m \u001b[38;5;28;01mdef\u001b[39;00m \u001b[38;5;21mload_workbook\u001b[39m(filename, read_only\u001b[38;5;241m=\u001b[39m\u001b[38;5;28;01mFalse\u001b[39;00m, keep_vba\u001b[38;5;241m=\u001b[39mKEEP_VBA,\n\u001b[0;32m    315\u001b[0m                   data_only\u001b[38;5;241m=\u001b[39m\u001b[38;5;28;01mFalse\u001b[39;00m, keep_links\u001b[38;5;241m=\u001b[39m\u001b[38;5;28;01mTrue\u001b[39;00m, rich_text\u001b[38;5;241m=\u001b[39m\u001b[38;5;28;01mFalse\u001b[39;00m):\n\u001b[0;32m    316\u001b[0m \u001b[38;5;250m    \u001b[39m\u001b[38;5;124;03m\"\"\"Open the given filename and return the workbook\u001b[39;00m\n\u001b[0;32m    317\u001b[0m \n\u001b[0;32m    318\u001b[0m \u001b[38;5;124;03m    :param filename: the path to open or a file-like object\u001b[39;00m\n\u001b[1;32m   (...)\u001b[0m\n\u001b[0;32m    342\u001b[0m \n\u001b[0;32m    343\u001b[0m \u001b[38;5;124;03m    \"\"\"\u001b[39;00m\n\u001b[1;32m--> 344\u001b[0m     reader \u001b[38;5;241m=\u001b[39m \u001b[43mExcelReader\u001b[49m\u001b[43m(\u001b[49m\u001b[43mfilename\u001b[49m\u001b[43m,\u001b[49m\u001b[43m \u001b[49m\u001b[43mread_only\u001b[49m\u001b[43m,\u001b[49m\u001b[43m \u001b[49m\u001b[43mkeep_vba\u001b[49m\u001b[43m,\u001b[49m\n\u001b[0;32m    345\u001b[0m \u001b[43m                         \u001b[49m\u001b[43mdata_only\u001b[49m\u001b[43m,\u001b[49m\u001b[43m \u001b[49m\u001b[43mkeep_links\u001b[49m\u001b[43m,\u001b[49m\u001b[43m \u001b[49m\u001b[43mrich_text\u001b[49m\u001b[43m)\u001b[49m\n\u001b[0;32m    346\u001b[0m     reader\u001b[38;5;241m.\u001b[39mread()\n\u001b[0;32m    347\u001b[0m     \u001b[38;5;28;01mreturn\u001b[39;00m reader\u001b[38;5;241m.\u001b[39mwb\n",
      "File \u001b[1;32m~\\AppData\\Roaming\\Python\\Python310\\site-packages\\openpyxl\\reader\\excel.py:123\u001b[0m, in \u001b[0;36mExcelReader.__init__\u001b[1;34m(self, fn, read_only, keep_vba, data_only, keep_links, rich_text)\u001b[0m\n\u001b[0;32m    121\u001b[0m \u001b[38;5;28;01mdef\u001b[39;00m \u001b[38;5;21m__init__\u001b[39m(\u001b[38;5;28mself\u001b[39m, fn, read_only\u001b[38;5;241m=\u001b[39m\u001b[38;5;28;01mFalse\u001b[39;00m, keep_vba\u001b[38;5;241m=\u001b[39mKEEP_VBA,\n\u001b[0;32m    122\u001b[0m              data_only\u001b[38;5;241m=\u001b[39m\u001b[38;5;28;01mFalse\u001b[39;00m, keep_links\u001b[38;5;241m=\u001b[39m\u001b[38;5;28;01mTrue\u001b[39;00m, rich_text\u001b[38;5;241m=\u001b[39m\u001b[38;5;28;01mFalse\u001b[39;00m):\n\u001b[1;32m--> 123\u001b[0m     \u001b[38;5;28mself\u001b[39m\u001b[38;5;241m.\u001b[39marchive \u001b[38;5;241m=\u001b[39m \u001b[43m_validate_archive\u001b[49m\u001b[43m(\u001b[49m\u001b[43mfn\u001b[49m\u001b[43m)\u001b[49m\n\u001b[0;32m    124\u001b[0m     \u001b[38;5;28mself\u001b[39m\u001b[38;5;241m.\u001b[39mvalid_files \u001b[38;5;241m=\u001b[39m \u001b[38;5;28mself\u001b[39m\u001b[38;5;241m.\u001b[39marchive\u001b[38;5;241m.\u001b[39mnamelist()\n\u001b[0;32m    125\u001b[0m     \u001b[38;5;28mself\u001b[39m\u001b[38;5;241m.\u001b[39mread_only \u001b[38;5;241m=\u001b[39m read_only\n",
      "File \u001b[1;32m~\\AppData\\Roaming\\Python\\Python310\\site-packages\\openpyxl\\reader\\excel.py:95\u001b[0m, in \u001b[0;36m_validate_archive\u001b[1;34m(filename)\u001b[0m\n\u001b[0;32m     88\u001b[0m             msg \u001b[38;5;241m=\u001b[39m (\u001b[38;5;124m'\u001b[39m\u001b[38;5;124mopenpyxl does not support \u001b[39m\u001b[38;5;132;01m%s\u001b[39;00m\u001b[38;5;124m file format, \u001b[39m\u001b[38;5;124m'\u001b[39m\n\u001b[0;32m     89\u001b[0m                    \u001b[38;5;124m'\u001b[39m\u001b[38;5;124mplease check you can open \u001b[39m\u001b[38;5;124m'\u001b[39m\n\u001b[0;32m     90\u001b[0m                    \u001b[38;5;124m'\u001b[39m\u001b[38;5;124mit with Excel first. \u001b[39m\u001b[38;5;124m'\u001b[39m\n\u001b[0;32m     91\u001b[0m                    \u001b[38;5;124m'\u001b[39m\u001b[38;5;124mSupported formats are: \u001b[39m\u001b[38;5;132;01m%s\u001b[39;00m\u001b[38;5;124m'\u001b[39m) \u001b[38;5;241m%\u001b[39m (file_format,\n\u001b[0;32m     92\u001b[0m                                                    \u001b[38;5;124m'\u001b[39m\u001b[38;5;124m,\u001b[39m\u001b[38;5;124m'\u001b[39m\u001b[38;5;241m.\u001b[39mjoin(SUPPORTED_FORMATS))\n\u001b[0;32m     93\u001b[0m         \u001b[38;5;28;01mraise\u001b[39;00m InvalidFileException(msg)\n\u001b[1;32m---> 95\u001b[0m archive \u001b[38;5;241m=\u001b[39m \u001b[43mZipFile\u001b[49m\u001b[43m(\u001b[49m\u001b[43mfilename\u001b[49m\u001b[43m,\u001b[49m\u001b[43m \u001b[49m\u001b[38;5;124;43m'\u001b[39;49m\u001b[38;5;124;43mr\u001b[39;49m\u001b[38;5;124;43m'\u001b[39;49m\u001b[43m)\u001b[49m\n\u001b[0;32m     96\u001b[0m \u001b[38;5;28;01mreturn\u001b[39;00m archive\n",
      "File \u001b[1;32mC:\\Program Files\\Python310\\lib\\zipfile.py:1267\u001b[0m, in \u001b[0;36mZipFile.__init__\u001b[1;34m(self, file, mode, compression, allowZip64, compresslevel, strict_timestamps)\u001b[0m\n\u001b[0;32m   1265\u001b[0m \u001b[38;5;28;01mtry\u001b[39;00m:\n\u001b[0;32m   1266\u001b[0m     \u001b[38;5;28;01mif\u001b[39;00m mode \u001b[38;5;241m==\u001b[39m \u001b[38;5;124m'\u001b[39m\u001b[38;5;124mr\u001b[39m\u001b[38;5;124m'\u001b[39m:\n\u001b[1;32m-> 1267\u001b[0m         \u001b[38;5;28;43mself\u001b[39;49m\u001b[38;5;241;43m.\u001b[39;49m\u001b[43m_RealGetContents\u001b[49m\u001b[43m(\u001b[49m\u001b[43m)\u001b[49m\n\u001b[0;32m   1268\u001b[0m     \u001b[38;5;28;01melif\u001b[39;00m mode \u001b[38;5;129;01min\u001b[39;00m (\u001b[38;5;124m'\u001b[39m\u001b[38;5;124mw\u001b[39m\u001b[38;5;124m'\u001b[39m, \u001b[38;5;124m'\u001b[39m\u001b[38;5;124mx\u001b[39m\u001b[38;5;124m'\u001b[39m):\n\u001b[0;32m   1269\u001b[0m         \u001b[38;5;66;03m# set the modified flag so central directory gets written\u001b[39;00m\n\u001b[0;32m   1270\u001b[0m         \u001b[38;5;66;03m# even if no files are added to the archive\u001b[39;00m\n\u001b[0;32m   1271\u001b[0m         \u001b[38;5;28mself\u001b[39m\u001b[38;5;241m.\u001b[39m_didModify \u001b[38;5;241m=\u001b[39m \u001b[38;5;28;01mTrue\u001b[39;00m\n",
      "File \u001b[1;32mC:\\Program Files\\Python310\\lib\\zipfile.py:1334\u001b[0m, in \u001b[0;36mZipFile._RealGetContents\u001b[1;34m(self)\u001b[0m\n\u001b[0;32m   1332\u001b[0m     \u001b[38;5;28;01mraise\u001b[39;00m BadZipFile(\u001b[38;5;124m\"\u001b[39m\u001b[38;5;124mFile is not a zip file\u001b[39m\u001b[38;5;124m\"\u001b[39m)\n\u001b[0;32m   1333\u001b[0m \u001b[38;5;28;01mif\u001b[39;00m \u001b[38;5;129;01mnot\u001b[39;00m endrec:\n\u001b[1;32m-> 1334\u001b[0m     \u001b[38;5;28;01mraise\u001b[39;00m BadZipFile(\u001b[38;5;124m\"\u001b[39m\u001b[38;5;124mFile is not a zip file\u001b[39m\u001b[38;5;124m\"\u001b[39m)\n\u001b[0;32m   1335\u001b[0m \u001b[38;5;28;01mif\u001b[39;00m \u001b[38;5;28mself\u001b[39m\u001b[38;5;241m.\u001b[39mdebug \u001b[38;5;241m>\u001b[39m \u001b[38;5;241m1\u001b[39m:\n\u001b[0;32m   1336\u001b[0m     \u001b[38;5;28mprint\u001b[39m(endrec)\n",
      "\u001b[1;31mBadZipFile\u001b[0m: File is not a zip file"
     ]
    }
   ],
   "source": [
    "# Input the csv data\n",
    "data = pd.read_csv(\"final data.csv\")\n",
    "\n",
    "years = data['Date']\n",
    "inflation_expectations = data['Inflation Expectations']\n",
    "oil_prices = data['Oil Prices']\n",
    "\n",
    "# Plot oil prices on the left y-axis\n",
    "fig, ax1 = plt.subplots(figsize=(10, 6))\n",
    "\n",
    "ax1.plot(years, oil_prices, color='tab:blue', label='Spot Crude Oil Prices (FRED, 2023)')\n",
    "ax1.set_xlabel('Year')\n",
    "ax1.set_ylabel('Spot Crude Oil Prices', color='tab:blue')\n",
    "ax1.set_ylim(0, 700)  \n",
    "ax1.tick_params(axis='y', labelcolor='tab:blue')\n",
    "\n",
    "# Plot inflation expectations on the right y-axis\n",
    "ax2 = ax1.twinx()\n",
    "\n",
    "\n",
    "ax2.plot(years, inflation_expectations, color='tab:red', \n",
    "         label='Median One-Year-Ahead Inflation Expectations (Livingston Survey, 2023)')\n",
    "ax2.set_ylabel('Median One-Year-Ahead Inflation Expectations', color='tab:red')\n",
    "ax2.set_ylim(0, 14)  \n",
    "ax2.tick_params(axis='y', labelcolor='tab:red')\n",
    "\n",
    "\n",
    "lines, labels = ax1.get_legend_handles_labels()\n",
    "lines2, labels2 = ax2.get_legend_handles_labels()\n",
    "ax2.legend(lines + lines2, labels + labels2, loc='upper left')\n",
    "\n",
    "plt.grid(True)\n",
    "plt.tight_layout()\n",
    "# plt.savefig('oil.png', dpi = 300)"
   ]
  },
  {
   "cell_type": "code",
   "execution_count": 3,
   "id": "f214dd86",
   "metadata": {},
   "outputs": [
    {
     "name": "stdout",
     "output_type": "stream",
     "text": [
      "ADF Test Results\n",
      "Null Hypothesis: The series has a unit root (non-stationary)\n",
      "ADF-Statistic: -2.24757897444565\n",
      "P-Value: 0.4631335797247942\n",
      "Number of lags: 0\n",
      "Number of observations: 34\n",
      "Critical Values: {'1%': -4.253042608385915, '5%': -3.5485904579686545, '10%': -3.2070617952371263}\n",
      "Note: If P-Value is smaller than 0.05, we reject the null hypothesis and the series is stationary\n"
     ]
    }
   ],
   "source": [
    "# ADF for oil prices, trend\n",
    "adftest = adfuller(oil_prices, autolag='AIC', regression='ct')\n",
    "print(\"ADF Test Results\")\n",
    "print(\"Null Hypothesis: The series has a unit root (non-stationary)\")\n",
    "print(\"ADF-Statistic:\", adftest[0])\n",
    "print(\"P-Value:\", adftest[1])\n",
    "print(\"Number of lags:\", adftest[2])\n",
    "print(\"Number of observations:\", adftest[3])\n",
    "print(\"Critical Values:\", adftest[4])\n",
    "print(\"Note: If P-Value is smaller than 0.05, we reject the null hypothesis and the series is stationary\")"
   ]
  },
  {
   "cell_type": "code",
   "execution_count": 4,
   "id": "098e0dbb",
   "metadata": {},
   "outputs": [
    {
     "name": "stdout",
     "output_type": "stream",
     "text": [
      "ADF Test Results\n",
      "Null Hypothesis: The series has a unit root (non-stationary)\n",
      "ADF-Statistic: -2.28352331399107\n",
      "P-Value: 0.1773371069313483\n",
      "Number of lags: 0\n",
      "Number of observations: 34\n",
      "Critical Values: {'1%': -3.639224104416853, '5%': -2.9512301791166293, '10%': -2.614446989619377}\n",
      "Note: If P-Value is smaller than 0.05, we reject the null hypothesis and the series is stationary\n"
     ]
    }
   ],
   "source": [
    "# ADF for oil prices, no trend\n",
    "adftest = adfuller(oil_prices, autolag='AIC', regression='c')\n",
    "print(\"ADF Test Results\")\n",
    "print(\"Null Hypothesis: The series has a unit root (non-stationary)\")\n",
    "print(\"ADF-Statistic:\", adftest[0])\n",
    "print(\"P-Value:\", adftest[1])\n",
    "print(\"Number of lags:\", adftest[2])\n",
    "print(\"Number of observations:\", adftest[3])\n",
    "print(\"Critical Values:\", adftest[4])\n",
    "print(\"Note: If P-Value is smaller than 0.05, we reject the null hypothesis and the series is stationary\")"
   ]
  },
  {
   "cell_type": "code",
   "execution_count": 5,
   "id": "b2a52ce7",
   "metadata": {},
   "outputs": [
    {
     "name": "stdout",
     "output_type": "stream",
     "text": [
      "ADF Test Results\n",
      "Null Hypothesis: The series has a unit root (non-stationary)\n",
      "ADF-Statistic: -1.6984448311994453\n",
      "P-Value: 0.7515535196094505\n",
      "Number of lags: 8\n",
      "Number of observations: 26\n",
      "Critical Values: {'1%': -4.356652259899864, '5%': -3.595299990896677, '10%': -3.233575694128357}\n",
      "Note: If P-Value is smaller than 0.05, we reject the null hypothesis and the series is stationary\n"
     ]
    }
   ],
   "source": [
    "# ADF for inflation expectations, trend\n",
    "adftest = adfuller(inflation_expectations, autolag='AIC', regression='ct')\n",
    "print(\"ADF Test Results\")\n",
    "print(\"Null Hypothesis: The series has a unit root (non-stationary)\")\n",
    "print(\"ADF-Statistic:\", adftest[0])\n",
    "print(\"P-Value:\", adftest[1])\n",
    "print(\"Number of lags:\", adftest[2])\n",
    "print(\"Number of observations:\", adftest[3])\n",
    "print(\"Critical Values:\", adftest[4])\n",
    "print(\"Note: If P-Value is smaller than 0.05, we reject the null hypothesis and the series is stationary\")"
   ]
  },
  {
   "cell_type": "code",
   "execution_count": 6,
   "id": "dff444df",
   "metadata": {},
   "outputs": [
    {
     "name": "stdout",
     "output_type": "stream",
     "text": [
      "ADF Test Results\n",
      "Null Hypothesis: The series has a unit root (non-stationary)\n",
      "ADF-Statistic: -5.205735358565183\n",
      "P-Value: 8.55810788176119e-06\n",
      "Number of lags: 8\n",
      "Number of observations: 26\n",
      "Critical Values: {'1%': -3.7112123008648155, '5%': -2.981246804733728, '10%': -2.6300945562130176}\n",
      "Note: If P-Value is smaller than 0.05, we reject the null hypothesis and the series is stationary\n"
     ]
    }
   ],
   "source": [
    "# ADF for inflation expectations, no trend\n",
    "adftest = adfuller(inflation_expectations, autolag='AIC', regression='c')\n",
    "print(\"ADF Test Results\")\n",
    "print(\"Null Hypothesis: The series has a unit root (non-stationary)\")\n",
    "print(\"ADF-Statistic:\", adftest[0])\n",
    "print(\"P-Value:\", adftest[1])\n",
    "print(\"Number of lags:\", adftest[2])\n",
    "print(\"Number of observations:\", adftest[3])\n",
    "print(\"Critical Values:\", adftest[4])\n",
    "print(\"Note: If P-Value is smaller than 0.05, we reject the null hypothesis and the series is stationary\")"
   ]
  },
  {
   "cell_type": "code",
   "execution_count": 7,
   "id": "26d8c3e4",
   "metadata": {},
   "outputs": [
    {
     "name": "stdout",
     "output_type": "stream",
     "text": [
      "ADF Statistic: -5.715585392852145\n",
      "p-value: 8.514383710533857e-06\n",
      "Critical Values: {'1%': -4.262944107465843, '5%': -3.553092543339733, '10%': -3.2096284957008097}\n"
     ]
    }
   ],
   "source": [
    "# ADF for differentiated oil prices, trend\n",
    "oil_prices_diff = data['Oil prices'].diff().dropna()\n",
    "\n",
    "adftest_diff = adfuller(oil_prices_diff, autolag='AIC', regression='ct')\n",
    "print(\"ADF Statistic:\", adftest_diff[0])\n",
    "print(\"p-value:\", adftest_diff[1])\n",
    "print(\"Critical Values:\", adftest_diff[4])"
   ]
  },
  {
   "cell_type": "code",
   "execution_count": 8,
   "id": "5e91b42b",
   "metadata": {},
   "outputs": [
    {
     "name": "stdout",
     "output_type": "stream",
     "text": [
      "ADF Statistic: -5.853773424330736\n",
      "p-value: 3.5390699029176453e-07\n",
      "Critical Values: {'1%': -3.6461350877925254, '5%': -2.954126991123355, '10%': -2.6159676124885216}\n"
     ]
    }
   ],
   "source": [
    "# ADF for differentiated oil prices, no trend\n",
    "oil_prices_diff = data['Oil prices'].diff().dropna()\n",
    "\n",
    "adftest_diff = adfuller(oil_prices_diff, autolag='AIC', regression='c')\n",
    "print(\"ADF Statistic:\", adftest_diff[0])\n",
    "print(\"p-value:\", adftest_diff[1])\n",
    "print(\"Critical Values:\", adftest_diff[4])"
   ]
  },
  {
   "cell_type": "code",
   "execution_count": 9,
   "id": "13131942",
   "metadata": {},
   "outputs": [
    {
     "name": "stdout",
     "output_type": "stream",
     "text": [
      "ADF Statistic: -6.940812915685035\n",
      "p-value: 1.9225065016679557e-08\n",
      "Critical Values: {'1%': -4.356652259899864, '5%': -3.595299990896677, '10%': -3.233575694128357}\n"
     ]
    }
   ],
   "source": [
    "# ADF for differentiated inflation expectations, trend\n",
    "inflation_expectations_diff = data['Inflation expectations'].diff().dropna()\n",
    "\n",
    "adftest_diff = adfuller(inflation_expectations_diff, autolag='AIC', regression='ct')\n",
    "print(\"ADF Statistic:\", adftest_diff[0])\n",
    "print(\"p-value:\", adftest_diff[1])\n",
    "print(\"Critical Values:\", adftest_diff[4])"
   ]
  },
  {
   "cell_type": "code",
   "execution_count": 10,
   "id": "4793033e",
   "metadata": {},
   "outputs": [
    {
     "name": "stdout",
     "output_type": "stream",
     "text": [
      "ADF Statistic: -1.3744475007197572\n",
      "p-value: 0.594463167485325\n",
      "Critical Values: {'1%': -3.7377092158564813, '5%': -2.9922162731481485, '10%': -2.635746736111111}\n"
     ]
    }
   ],
   "source": [
    "# ADF for differentiated inflation expectations, no trend\n",
    "inflation_expectations_diff = data['Inflation expectations'].diff().dropna()\n",
    "\n",
    "adftest_diff = adfuller(inflation_expectations_diff, autolag='AIC', regression='c')\n",
    "print(\"ADF Statistic:\", adftest_diff[0])\n",
    "print(\"p-value:\", adftest_diff[1])\n",
    "print(\"Critical Values:\", adftest_diff[4])"
   ]
  },
  {
   "cell_type": "code",
   "execution_count": 11,
   "id": "be5c0abe",
   "metadata": {},
   "outputs": [
    {
     "data": {
      "text/html": [
       "<table class=\"simpletable\">\n",
       "<caption>Phillips-Perron Test (Z-tau)</caption>\n",
       "<tr>\n",
       "  <td>Test Statistic</td>    <td>-2.318</td>\n",
       "</tr>\n",
       "<tr>\n",
       "  <td>P-value</td>            <td>0.424</td>\n",
       "</tr>\n",
       "<tr>\n",
       "  <td>Lags</td>                  <td>10</td>\n",
       "</tr>\n",
       "</table><br/><br/>Trend: Constant and Linear Time Trend<br/>Critical Values: -4.25 (1%), -3.55 (5%), -3.21 (10%)<br/>Null Hypothesis: The process contains a unit root.<br/>Alternative Hypothesis: The process is weakly stationary."
      ],
      "text/latex": [
       "\\begin{center}\n",
       "\\begin{tabular}{lr}\n",
       "\\toprule\n",
       "Test Statistic     &             -2.318  \\\\\n",
       "P-value            &              0.424  \\\\\n",
       "Lags               &                 10  \\\\\n",
       "\\bottomrule\n",
       "\\end{tabular}\n",
       "%\\caption{Phillips-Perron Test (Z-tau)}\n",
       "\\end{center}\n",
       "\n",
       "Trend: Constant and Linear Time Trend \\newline\n",
       " Critical Values: -4.25 (1%), -3.55 (5%), -3.21 (10%) \\newline\n",
       " Null Hypothesis: The process contains a unit root. \\newline\n",
       " Alternative Hypothesis: The process is weakly stationary."
      ],
      "text/plain": [
       "<class 'statsmodels.iolib.summary.Summary'>\n",
       "\"\"\"\n",
       "     Phillips-Perron Test (Z-tau)    \n",
       "=====================================\n",
       "Test Statistic                 -2.318\n",
       "P-value                         0.424\n",
       "Lags                               10\n",
       "-------------------------------------\n",
       "\n",
       "Trend: Constant and Linear Time Trend\n",
       "Critical Values: -4.25 (1%), -3.55 (5%), -3.21 (10%)\n",
       "Null Hypothesis: The process contains a unit root.\n",
       "Alternative Hypothesis: The process is weakly stationary.\n",
       "\"\"\""
      ]
     },
     "execution_count": 11,
     "metadata": {},
     "output_type": "execute_result"
    }
   ],
   "source": [
    "inflation_pp_test = PhillipsPerron(data['Inflation expectations'], trend = 'ct')\n",
    "inflation_pp_test.summary()"
   ]
  },
  {
   "cell_type": "code",
   "execution_count": 12,
   "id": "61085ac6",
   "metadata": {},
   "outputs": [
    {
     "data": {
      "text/html": [
       "<table class=\"simpletable\">\n",
       "<caption>Phillips-Perron Test (Z-tau)</caption>\n",
       "<tr>\n",
       "  <td>Test Statistic</td>    <td>-2.318</td>\n",
       "</tr>\n",
       "<tr>\n",
       "  <td>P-value</td>            <td>0.424</td>\n",
       "</tr>\n",
       "<tr>\n",
       "  <td>Lags</td>                  <td>10</td>\n",
       "</tr>\n",
       "</table><br/><br/>Trend: Constant and Linear Time Trend<br/>Critical Values: -4.25 (1%), -3.55 (5%), -3.21 (10%)<br/>Null Hypothesis: The process contains a unit root.<br/>Alternative Hypothesis: The process is weakly stationary."
      ],
      "text/latex": [
       "\\begin{center}\n",
       "\\begin{tabular}{lr}\n",
       "\\toprule\n",
       "Test Statistic     &             -2.318  \\\\\n",
       "P-value            &              0.424  \\\\\n",
       "Lags               &                 10  \\\\\n",
       "\\bottomrule\n",
       "\\end{tabular}\n",
       "%\\caption{Phillips-Perron Test (Z-tau)}\n",
       "\\end{center}\n",
       "\n",
       "Trend: Constant and Linear Time Trend \\newline\n",
       " Critical Values: -4.25 (1%), -3.55 (5%), -3.21 (10%) \\newline\n",
       " Null Hypothesis: The process contains a unit root. \\newline\n",
       " Alternative Hypothesis: The process is weakly stationary."
      ],
      "text/plain": [
       "<class 'statsmodels.iolib.summary.Summary'>\n",
       "\"\"\"\n",
       "     Phillips-Perron Test (Z-tau)    \n",
       "=====================================\n",
       "Test Statistic                 -2.318\n",
       "P-value                         0.424\n",
       "Lags                               10\n",
       "-------------------------------------\n",
       "\n",
       "Trend: Constant and Linear Time Trend\n",
       "Critical Values: -4.25 (1%), -3.55 (5%), -3.21 (10%)\n",
       "Null Hypothesis: The process contains a unit root.\n",
       "Alternative Hypothesis: The process is weakly stationary.\n",
       "\"\"\""
      ]
     },
     "execution_count": 12,
     "metadata": {},
     "output_type": "execute_result"
    }
   ],
   "source": [
    "# PP test for inflation expectations, trend\n",
    "oil_pp_test = PhillipsPerron(data['Inflation expectations'], trend = 'ct')\n",
    "oil_pp_test.summary()"
   ]
  },
  {
   "cell_type": "code",
   "execution_count": 13,
   "id": "5ff89495",
   "metadata": {},
   "outputs": [
    {
     "data": {
      "text/html": [
       "<table class=\"simpletable\">\n",
       "<caption>Phillips-Perron Test (Z-tau)</caption>\n",
       "<tr>\n",
       "  <td>Test Statistic</td>    <td>-1.262</td>\n",
       "</tr>\n",
       "<tr>\n",
       "  <td>P-value</td>            <td>0.646</td>\n",
       "</tr>\n",
       "<tr>\n",
       "  <td>Lags</td>                  <td>10</td>\n",
       "</tr>\n",
       "</table><br/><br/>Trend: Constant<br/>Critical Values: -3.64 (1%), -2.95 (5%), -2.61 (10%)<br/>Null Hypothesis: The process contains a unit root.<br/>Alternative Hypothesis: The process is weakly stationary."
      ],
      "text/latex": [
       "\\begin{center}\n",
       "\\begin{tabular}{lr}\n",
       "\\toprule\n",
       "Test Statistic     &             -1.262  \\\\\n",
       "P-value            &              0.646  \\\\\n",
       "Lags               &                 10  \\\\\n",
       "\\bottomrule\n",
       "\\end{tabular}\n",
       "%\\caption{Phillips-Perron Test (Z-tau)}\n",
       "\\end{center}\n",
       "\n",
       "Trend: Constant \\newline\n",
       " Critical Values: -3.64 (1%), -2.95 (5%), -2.61 (10%) \\newline\n",
       " Null Hypothesis: The process contains a unit root. \\newline\n",
       " Alternative Hypothesis: The process is weakly stationary."
      ],
      "text/plain": [
       "<class 'statsmodels.iolib.summary.Summary'>\n",
       "\"\"\"\n",
       "     Phillips-Perron Test (Z-tau)    \n",
       "=====================================\n",
       "Test Statistic                 -1.262\n",
       "P-value                         0.646\n",
       "Lags                               10\n",
       "-------------------------------------\n",
       "\n",
       "Trend: Constant\n",
       "Critical Values: -3.64 (1%), -2.95 (5%), -2.61 (10%)\n",
       "Null Hypothesis: The process contains a unit root.\n",
       "Alternative Hypothesis: The process is weakly stationary.\n",
       "\"\"\""
      ]
     },
     "execution_count": 13,
     "metadata": {},
     "output_type": "execute_result"
    }
   ],
   "source": [
    "# PP test for inflation expectations, no trend\n",
    "oil_pp_test = PhillipsPerron(data['Inflation expectations'], trend = 'c')\n",
    "oil_pp_test.summary()"
   ]
  },
  {
   "cell_type": "code",
   "execution_count": 14,
   "id": "fd8e2160",
   "metadata": {},
   "outputs": [
    {
     "data": {
      "text/html": [
       "<table class=\"simpletable\">\n",
       "<caption>Phillips-Perron Test (Z-tau)</caption>\n",
       "<tr>\n",
       "  <td>Test Statistic</td>    <td>-2.468</td>\n",
       "</tr>\n",
       "<tr>\n",
       "  <td>P-value</td>            <td>0.344</td>\n",
       "</tr>\n",
       "<tr>\n",
       "  <td>Lags</td>                  <td>10</td>\n",
       "</tr>\n",
       "</table><br/><br/>Trend: Constant and Linear Time Trend<br/>Critical Values: -4.25 (1%), -3.55 (5%), -3.21 (10%)<br/>Null Hypothesis: The process contains a unit root.<br/>Alternative Hypothesis: The process is weakly stationary."
      ],
      "text/latex": [
       "\\begin{center}\n",
       "\\begin{tabular}{lr}\n",
       "\\toprule\n",
       "Test Statistic     &             -2.468  \\\\\n",
       "P-value            &              0.344  \\\\\n",
       "Lags               &                 10  \\\\\n",
       "\\bottomrule\n",
       "\\end{tabular}\n",
       "%\\caption{Phillips-Perron Test (Z-tau)}\n",
       "\\end{center}\n",
       "\n",
       "Trend: Constant and Linear Time Trend \\newline\n",
       " Critical Values: -4.25 (1%), -3.55 (5%), -3.21 (10%) \\newline\n",
       " Null Hypothesis: The process contains a unit root. \\newline\n",
       " Alternative Hypothesis: The process is weakly stationary."
      ],
      "text/plain": [
       "<class 'statsmodels.iolib.summary.Summary'>\n",
       "\"\"\"\n",
       "     Phillips-Perron Test (Z-tau)    \n",
       "=====================================\n",
       "Test Statistic                 -2.468\n",
       "P-value                         0.344\n",
       "Lags                               10\n",
       "-------------------------------------\n",
       "\n",
       "Trend: Constant and Linear Time Trend\n",
       "Critical Values: -4.25 (1%), -3.55 (5%), -3.21 (10%)\n",
       "Null Hypothesis: The process contains a unit root.\n",
       "Alternative Hypothesis: The process is weakly stationary.\n",
       "\"\"\""
      ]
     },
     "execution_count": 14,
     "metadata": {},
     "output_type": "execute_result"
    }
   ],
   "source": [
    "# PP test for oil prices, trend\n",
    "oil_pp_test = PhillipsPerron(data['Oil prices'], trend = 'ct')\n",
    "oil_pp_test.summary()"
   ]
  },
  {
   "cell_type": "code",
   "execution_count": 15,
   "id": "fcd351d1",
   "metadata": {},
   "outputs": [
    {
     "data": {
      "text/html": [
       "<table class=\"simpletable\">\n",
       "<caption>Phillips-Perron Test (Z-tau)</caption>\n",
       "<tr>\n",
       "  <td>Test Statistic</td>    <td>-2.501</td>\n",
       "</tr>\n",
       "<tr>\n",
       "  <td>P-value</td>            <td>0.115</td>\n",
       "</tr>\n",
       "<tr>\n",
       "  <td>Lags</td>                  <td>10</td>\n",
       "</tr>\n",
       "</table><br/><br/>Trend: Constant<br/>Critical Values: -3.64 (1%), -2.95 (5%), -2.61 (10%)<br/>Null Hypothesis: The process contains a unit root.<br/>Alternative Hypothesis: The process is weakly stationary."
      ],
      "text/latex": [
       "\\begin{center}\n",
       "\\begin{tabular}{lr}\n",
       "\\toprule\n",
       "Test Statistic     &             -2.501  \\\\\n",
       "P-value            &              0.115  \\\\\n",
       "Lags               &                 10  \\\\\n",
       "\\bottomrule\n",
       "\\end{tabular}\n",
       "%\\caption{Phillips-Perron Test (Z-tau)}\n",
       "\\end{center}\n",
       "\n",
       "Trend: Constant \\newline\n",
       " Critical Values: -3.64 (1%), -2.95 (5%), -2.61 (10%) \\newline\n",
       " Null Hypothesis: The process contains a unit root. \\newline\n",
       " Alternative Hypothesis: The process is weakly stationary."
      ],
      "text/plain": [
       "<class 'statsmodels.iolib.summary.Summary'>\n",
       "\"\"\"\n",
       "     Phillips-Perron Test (Z-tau)    \n",
       "=====================================\n",
       "Test Statistic                 -2.501\n",
       "P-value                         0.115\n",
       "Lags                               10\n",
       "-------------------------------------\n",
       "\n",
       "Trend: Constant\n",
       "Critical Values: -3.64 (1%), -2.95 (5%), -2.61 (10%)\n",
       "Null Hypothesis: The process contains a unit root.\n",
       "Alternative Hypothesis: The process is weakly stationary.\n",
       "\"\"\""
      ]
     },
     "execution_count": 15,
     "metadata": {},
     "output_type": "execute_result"
    }
   ],
   "source": [
    "# PP test for oil prices, no trend\n",
    "oil_pp_test = PhillipsPerron(data['Oil prices'], trend = 'c')\n",
    "oil_pp_test.summary()"
   ]
  },
  {
   "cell_type": "code",
   "execution_count": 16,
   "id": "8081b7af",
   "metadata": {},
   "outputs": [
    {
     "data": {
      "text/html": [
       "<table class=\"simpletable\">\n",
       "<caption>Phillips-Perron Test (Z-tau)</caption>\n",
       "<tr>\n",
       "  <td>Test Statistic</td>    <td>-5.380</td>\n",
       "</tr>\n",
       "<tr>\n",
       "  <td>P-value</td>            <td>0.000</td>\n",
       "</tr>\n",
       "<tr>\n",
       "  <td>Lags</td>                  <td>10</td>\n",
       "</tr>\n",
       "</table><br/><br/>Trend: Constant<br/>Critical Values: -3.65 (1%), -2.95 (5%), -2.62 (10%)<br/>Null Hypothesis: The process contains a unit root.<br/>Alternative Hypothesis: The process is weakly stationary."
      ],
      "text/latex": [
       "\\begin{center}\n",
       "\\begin{tabular}{lr}\n",
       "\\toprule\n",
       "Test Statistic     &             -5.380  \\\\\n",
       "P-value            &              0.000  \\\\\n",
       "Lags               &                 10  \\\\\n",
       "\\bottomrule\n",
       "\\end{tabular}\n",
       "%\\caption{Phillips-Perron Test (Z-tau)}\n",
       "\\end{center}\n",
       "\n",
       "Trend: Constant \\newline\n",
       " Critical Values: -3.65 (1%), -2.95 (5%), -2.62 (10%) \\newline\n",
       " Null Hypothesis: The process contains a unit root. \\newline\n",
       " Alternative Hypothesis: The process is weakly stationary."
      ],
      "text/plain": [
       "<class 'statsmodels.iolib.summary.Summary'>\n",
       "\"\"\"\n",
       "     Phillips-Perron Test (Z-tau)    \n",
       "=====================================\n",
       "Test Statistic                 -5.380\n",
       "P-value                         0.000\n",
       "Lags                               10\n",
       "-------------------------------------\n",
       "\n",
       "Trend: Constant\n",
       "Critical Values: -3.65 (1%), -2.95 (5%), -2.62 (10%)\n",
       "Null Hypothesis: The process contains a unit root.\n",
       "Alternative Hypothesis: The process is weakly stationary.\n",
       "\"\"\""
      ]
     },
     "execution_count": 16,
     "metadata": {},
     "output_type": "execute_result"
    }
   ],
   "source": [
    "# PP test for differentiated inflation expectations, no trend\n",
    "oil_pp_test = PhillipsPerron(inflation_expectations_diff, trend = 'c')\n",
    "oil_pp_test.summary()"
   ]
  },
  {
   "cell_type": "code",
   "execution_count": 17,
   "id": "daba94ba",
   "metadata": {},
   "outputs": [
    {
     "data": {
      "text/html": [
       "<table class=\"simpletable\">\n",
       "<caption>Phillips-Perron Test (Z-tau)</caption>\n",
       "<tr>\n",
       "  <td>Test Statistic</td>    <td>-6.021</td>\n",
       "</tr>\n",
       "<tr>\n",
       "  <td>P-value</td>            <td>0.000</td>\n",
       "</tr>\n",
       "<tr>\n",
       "  <td>Lags</td>                  <td>10</td>\n",
       "</tr>\n",
       "</table><br/><br/>Trend: Constant and Linear Time Trend<br/>Critical Values: -4.26 (1%), -3.55 (5%), -3.21 (10%)<br/>Null Hypothesis: The process contains a unit root.<br/>Alternative Hypothesis: The process is weakly stationary."
      ],
      "text/latex": [
       "\\begin{center}\n",
       "\\begin{tabular}{lr}\n",
       "\\toprule\n",
       "Test Statistic     &             -6.021  \\\\\n",
       "P-value            &              0.000  \\\\\n",
       "Lags               &                 10  \\\\\n",
       "\\bottomrule\n",
       "\\end{tabular}\n",
       "%\\caption{Phillips-Perron Test (Z-tau)}\n",
       "\\end{center}\n",
       "\n",
       "Trend: Constant and Linear Time Trend \\newline\n",
       " Critical Values: -4.26 (1%), -3.55 (5%), -3.21 (10%) \\newline\n",
       " Null Hypothesis: The process contains a unit root. \\newline\n",
       " Alternative Hypothesis: The process is weakly stationary."
      ],
      "text/plain": [
       "<class 'statsmodels.iolib.summary.Summary'>\n",
       "\"\"\"\n",
       "     Phillips-Perron Test (Z-tau)    \n",
       "=====================================\n",
       "Test Statistic                 -6.021\n",
       "P-value                         0.000\n",
       "Lags                               10\n",
       "-------------------------------------\n",
       "\n",
       "Trend: Constant and Linear Time Trend\n",
       "Critical Values: -4.26 (1%), -3.55 (5%), -3.21 (10%)\n",
       "Null Hypothesis: The process contains a unit root.\n",
       "Alternative Hypothesis: The process is weakly stationary.\n",
       "\"\"\""
      ]
     },
     "execution_count": 17,
     "metadata": {},
     "output_type": "execute_result"
    }
   ],
   "source": [
    "# PP test for differentiated inflation expectations, trend\n",
    "oil_pp_test = PhillipsPerron(inflation_expectations_diff, trend = 'ct')\n",
    "oil_pp_test.summary()"
   ]
  },
  {
   "cell_type": "code",
   "execution_count": 18,
   "id": "832c0989",
   "metadata": {},
   "outputs": [
    {
     "data": {
      "text/html": [
       "<table class=\"simpletable\">\n",
       "<caption>Phillips-Perron Test (Z-tau)</caption>\n",
       "<tr>\n",
       "  <td>Test Statistic</td>    <td>-6.146</td>\n",
       "</tr>\n",
       "<tr>\n",
       "  <td>P-value</td>            <td>0.000</td>\n",
       "</tr>\n",
       "<tr>\n",
       "  <td>Lags</td>                  <td>10</td>\n",
       "</tr>\n",
       "</table><br/><br/>Trend: Constant<br/>Critical Values: -3.65 (1%), -2.95 (5%), -2.62 (10%)<br/>Null Hypothesis: The process contains a unit root.<br/>Alternative Hypothesis: The process is weakly stationary."
      ],
      "text/latex": [
       "\\begin{center}\n",
       "\\begin{tabular}{lr}\n",
       "\\toprule\n",
       "Test Statistic     &             -6.146  \\\\\n",
       "P-value            &              0.000  \\\\\n",
       "Lags               &                 10  \\\\\n",
       "\\bottomrule\n",
       "\\end{tabular}\n",
       "%\\caption{Phillips-Perron Test (Z-tau)}\n",
       "\\end{center}\n",
       "\n",
       "Trend: Constant \\newline\n",
       " Critical Values: -3.65 (1%), -2.95 (5%), -2.62 (10%) \\newline\n",
       " Null Hypothesis: The process contains a unit root. \\newline\n",
       " Alternative Hypothesis: The process is weakly stationary."
      ],
      "text/plain": [
       "<class 'statsmodels.iolib.summary.Summary'>\n",
       "\"\"\"\n",
       "     Phillips-Perron Test (Z-tau)    \n",
       "=====================================\n",
       "Test Statistic                 -6.146\n",
       "P-value                         0.000\n",
       "Lags                               10\n",
       "-------------------------------------\n",
       "\n",
       "Trend: Constant\n",
       "Critical Values: -3.65 (1%), -2.95 (5%), -2.62 (10%)\n",
       "Null Hypothesis: The process contains a unit root.\n",
       "Alternative Hypothesis: The process is weakly stationary.\n",
       "\"\"\""
      ]
     },
     "execution_count": 18,
     "metadata": {},
     "output_type": "execute_result"
    }
   ],
   "source": [
    "# PP test for differentiated oil prices, no trend\n",
    "inflation_pp_test = PhillipsPerron(oil_prices_diff, trend = 'c')\n",
    "inflation_pp_test.summary()"
   ]
  },
  {
   "cell_type": "code",
   "execution_count": 19,
   "id": "68bed089",
   "metadata": {},
   "outputs": [
    {
     "data": {
      "text/html": [
       "<table class=\"simpletable\">\n",
       "<caption>Phillips-Perron Test (Z-tau)</caption>\n",
       "<tr>\n",
       "  <td>Test Statistic</td>    <td>-6.142</td>\n",
       "</tr>\n",
       "<tr>\n",
       "  <td>P-value</td>            <td>0.000</td>\n",
       "</tr>\n",
       "<tr>\n",
       "  <td>Lags</td>                  <td>10</td>\n",
       "</tr>\n",
       "</table><br/><br/>Trend: Constant and Linear Time Trend<br/>Critical Values: -4.26 (1%), -3.55 (5%), -3.21 (10%)<br/>Null Hypothesis: The process contains a unit root.<br/>Alternative Hypothesis: The process is weakly stationary."
      ],
      "text/latex": [
       "\\begin{center}\n",
       "\\begin{tabular}{lr}\n",
       "\\toprule\n",
       "Test Statistic     &             -6.142  \\\\\n",
       "P-value            &              0.000  \\\\\n",
       "Lags               &                 10  \\\\\n",
       "\\bottomrule\n",
       "\\end{tabular}\n",
       "%\\caption{Phillips-Perron Test (Z-tau)}\n",
       "\\end{center}\n",
       "\n",
       "Trend: Constant and Linear Time Trend \\newline\n",
       " Critical Values: -4.26 (1%), -3.55 (5%), -3.21 (10%) \\newline\n",
       " Null Hypothesis: The process contains a unit root. \\newline\n",
       " Alternative Hypothesis: The process is weakly stationary."
      ],
      "text/plain": [
       "<class 'statsmodels.iolib.summary.Summary'>\n",
       "\"\"\"\n",
       "     Phillips-Perron Test (Z-tau)    \n",
       "=====================================\n",
       "Test Statistic                 -6.142\n",
       "P-value                         0.000\n",
       "Lags                               10\n",
       "-------------------------------------\n",
       "\n",
       "Trend: Constant and Linear Time Trend\n",
       "Critical Values: -4.26 (1%), -3.55 (5%), -3.21 (10%)\n",
       "Null Hypothesis: The process contains a unit root.\n",
       "Alternative Hypothesis: The process is weakly stationary.\n",
       "\"\"\""
      ]
     },
     "execution_count": 19,
     "metadata": {},
     "output_type": "execute_result"
    }
   ],
   "source": [
    "# PP test for differentiated oil prices, trend\n",
    "inflation_pp_test = PhillipsPerron(oil_prices_diff, trend = 'ct')\n",
    "inflation_pp_test.summary()"
   ]
  },
  {
   "cell_type": "code",
   "execution_count": 22,
   "id": "fb0fd702",
   "metadata": {
    "scrolled": true
   },
   "outputs": [
    {
     "name": "stdout",
     "output_type": "stream",
     "text": [
      "<class 'pandas.core.series.Series'>\n"
     ]
    }
   ],
   "source": [
    "print(type(inflation_expectations_diff))"
   ]
  },
  {
   "cell_type": "code",
   "execution_count": 26,
   "id": "3ab8e4ab",
   "metadata": {},
   "outputs": [
    {
     "name": "stdout",
     "output_type": "stream",
     "text": [
      "Eigenvalues:\n",
      "[0.57696138 0.38956906]\n",
      "\n",
      "Trace statistic:\n",
      "[43.32422149 15.79488342]\n",
      "\n",
      "Critical values (90%, 95%, 99%):\n",
      "[[13.4294 15.4943 19.9349]\n",
      " [ 2.7055  3.8415  6.6349]]\n",
      "\n",
      "Eigen statistic:\n",
      "[27.52933808 15.79488342]\n",
      "\n",
      "Critical values (90%, 95%, 99%):\n",
      "[[12.2971 14.2639 18.52  ]\n",
      " [ 2.7055  3.8415  6.6349]]\n"
     ]
    }
   ],
   "source": [
    "df = pd.DataFrame({\n",
    "    'inflation_expectations_diff': inflation_expectations_diff,\n",
    "    'oil_prices_diff': oil_prices_diff\n",
    "})\n",
    "\n",
    "# Perform Johansen cointegration test\n",
    "result = coint_johansen(df, det_order=0, k_ar_diff=1)\n",
    "\n",
    "# Print the results\n",
    "print(\"Eigenvalues:\")\n",
    "print(result.eig)\n",
    "print(\"\\nTrace statistic:\")\n",
    "print(result.lr1)\n",
    "print(\"\\nCritical values (90%, 95%, 99%):\")\n",
    "print(result.cvt)\n",
    "print(\"\\nEigen statistic:\")\n",
    "print(result.lr2)\n",
    "print(\"\\nCritical values (90%, 95%, 99%):\")\n",
    "print(result.cvm)"
   ]
  },
  {
   "cell_type": "code",
   "execution_count": 24,
   "id": "d5a2ba6d",
   "metadata": {},
   "outputs": [
    {
     "name": "stdout",
     "output_type": "stream",
     "text": [
      "[43.32422149 15.79488342]\n"
     ]
    }
   ],
   "source": [
    "print(result.trace_stat)"
   ]
  },
  {
   "cell_type": "code",
   "execution_count": 25,
   "id": "5e077249",
   "metadata": {},
   "outputs": [
    {
     "name": "stdout",
     "output_type": "stream",
     "text": [
      "[[13.4294 15.4943 19.9349]\n",
      " [ 2.7055  3.8415  6.6349]]\n"
     ]
    }
   ],
   "source": [
    "print(result.trace_stat_crit_vals)"
   ]
  },
  {
   "cell_type": "code",
   "execution_count": 28,
   "id": "ba0e6224",
   "metadata": {},
   "outputs": [
    {
     "name": "stdout",
     "output_type": "stream",
     "text": [
      "Eigenvalues:\n",
      "[0.62872066 0.35836064]\n",
      "\n",
      "Trace statistic:\n",
      "[31.55964802  9.76203547]\n",
      "\n",
      "Critical values (90%, 95%, 99%):\n",
      "[[13.4294 15.4943 19.9349]\n",
      " [ 2.7055  3.8415  6.6349]]\n",
      "\n",
      "Eigen statistic:\n",
      "[21.79761255  9.76203547]\n",
      "\n",
      "Critical values (90%, 95%, 99%):\n",
      "[[12.2971 14.2639 18.52  ]\n",
      " [ 2.7055  3.8415  6.6349]]\n"
     ]
    }
   ],
   "source": [
    "df = pd.DataFrame({\n",
    "    'inflation_expectations_diff': inflation_expectations_diff[:24],\n",
    "    'oil_prices_diff': oil_prices_diff[:24]\n",
    "})\n",
    "\n",
    "# Perform Johansen cointegration test\n",
    "result = coint_johansen(df, det_order=0, k_ar_diff=1)\n",
    "\n",
    "# Print the results\n",
    "print(\"Eigenvalues:\")\n",
    "print(result.eig)\n",
    "print(\"\\nTrace statistic:\")\n",
    "print(result.lr1)\n",
    "print(\"\\nCritical values (90%, 95%, 99%):\")\n",
    "print(result.cvt)\n",
    "print(\"\\nEigen statistic:\")\n",
    "print(result.lr2)\n",
    "print(\"\\nCritical values (90%, 95%, 99%):\")\n",
    "print(result.cvm)"
   ]
  },
  {
   "cell_type": "code",
   "execution_count": 29,
   "id": "612c781d",
   "metadata": {},
   "outputs": [
    {
     "name": "stdout",
     "output_type": "stream",
     "text": [
      "Eigenvalues:\n",
      "[0.95890471 0.43553329]\n",
      "\n",
      "Trace statistic:\n",
      "[30.10988572  4.57499101]\n",
      "\n",
      "Critical values (90%, 95%, 99%):\n",
      "[[13.4294 15.4943 19.9349]\n",
      " [ 2.7055  3.8415  6.6349]]\n",
      "\n",
      "Eigen statistic:\n",
      "[25.53489471  4.57499101]\n",
      "\n",
      "Critical values (90%, 95%, 99%):\n",
      "[[12.2971 14.2639 18.52  ]\n",
      " [ 2.7055  3.8415  6.6349]]\n"
     ]
    }
   ],
   "source": [
    "df = pd.DataFrame({\n",
    "    'inflation_expectations_diff': inflation_expectations_diff[24:],\n",
    "    'oil_prices_diff': oil_prices_diff[24:]\n",
    "})\n",
    "\n",
    "# Perform Johansen cointegration test\n",
    "result = coint_johansen(df, det_order=0, k_ar_diff=1)\n",
    "\n",
    "# Print the results\n",
    "print(\"Eigenvalues:\")\n",
    "print(result.eig)\n",
    "print(\"\\nTrace statistic:\")\n",
    "print(result.lr1)\n",
    "print(\"\\nCritical values (90%, 95%, 99%):\")\n",
    "print(result.cvt)\n",
    "print(\"\\nEigen statistic:\")\n",
    "print(result.lr2)\n",
    "print(\"\\nCritical values (90%, 95%, 99%):\")\n",
    "print(result.cvm)"
   ]
  },
  {
   "cell_type": "code",
   "execution_count": 35,
   "id": "43ef609e",
   "metadata": {},
   "outputs": [
    {
     "name": "stdout",
     "output_type": "stream",
     "text": [
      "\n",
      "Trace statistic:\n",
      "0 : [43.32422149 15.79488342]\n",
      "\n",
      "Eigen statistic:\n",
      "0 : [27.52933808 15.79488342]\n",
      "\n",
      "Trace statistic:\n",
      "1 : [42.48045933 15.5248842 ]\n",
      "\n",
      "Eigen statistic:\n",
      "1 : [26.95557513 15.5248842 ]\n",
      "\n",
      "Trace statistic:\n",
      "2 : [39.09418336 15.60708082]\n",
      "\n",
      "Eigen statistic:\n",
      "2 : [23.48710255 15.60708082]\n",
      "\n",
      "Trace statistic:\n",
      "3 : [36.62746531 13.90317039]\n",
      "\n",
      "Eigen statistic:\n",
      "3 : [22.72429492 13.90317039]\n",
      "\n",
      "Trace statistic:\n",
      "4 : [43.38795585 13.19138214]\n",
      "\n",
      "Eigen statistic:\n",
      "4 : [30.19657371 13.19138214]\n",
      "\n",
      "Trace statistic:\n",
      "5 : [44.46096967 12.73452504]\n",
      "\n",
      "Eigen statistic:\n",
      "5 : [31.72644463 12.73452504]\n",
      "\n",
      "Trace statistic:\n",
      "6 : [34.93130465 12.17498622]\n",
      "\n",
      "Eigen statistic:\n",
      "6 : [22.75631842 12.17498622]\n",
      "\n",
      "Trace statistic:\n",
      "7 : [40.68081222 11.70744106]\n",
      "\n",
      "Eigen statistic:\n",
      "7 : [28.97337115 11.70744106]\n",
      "\n",
      "Trace statistic:\n",
      "8 : [41.01408277 11.78077621]\n",
      "\n",
      "Eigen statistic:\n",
      "8 : [29.23330656 11.78077621]\n",
      "\n",
      "Trace statistic:\n",
      "9 : [29.6801559  11.13674487]\n",
      "\n",
      "Eigen statistic:\n",
      "9 : [18.54341103 11.13674487]\n",
      "\n",
      "Trace statistic:\n",
      "10 : [33.12499643 10.62236319]\n",
      "\n",
      "Eigen statistic:\n",
      "10 : [22.50263324 10.62236319]\n",
      "\n",
      "Trace statistic:\n",
      "11 : [39.01379215 11.68569206]\n",
      "\n",
      "Eigen statistic:\n",
      "11 : [27.32810009 11.68569206]\n",
      "\n",
      "Trace statistic:\n",
      "12 : [32.28011743 11.07641087]\n",
      "\n",
      "Eigen statistic:\n",
      "12 : [21.20370656 11.07641087]\n",
      "\n",
      "Trace statistic:\n",
      "13 : [31.04815103 11.34276774]\n",
      "\n",
      "Eigen statistic:\n",
      "13 : [19.70538329 11.34276774]\n",
      "\n",
      "Trace statistic:\n",
      "14 : [32.67144151 11.88811227]\n",
      "\n",
      "Eigen statistic:\n",
      "14 : [20.78332924 11.88811227]\n",
      "\n",
      "Trace statistic:\n",
      "15 : [30.42391489 10.0783605 ]\n",
      "\n",
      "Eigen statistic:\n",
      "15 : [20.34555438 10.0783605 ]\n",
      "\n",
      "Trace statistic:\n",
      "16 : [30.17825725  9.32389678]\n",
      "\n",
      "Eigen statistic:\n",
      "16 : [20.85436047  9.32389678]\n",
      "\n",
      "Trace statistic:\n",
      "17 : [28.38522698  8.69166764]\n",
      "\n",
      "Eigen statistic:\n",
      "17 : [19.69355934  8.69166764]\n",
      "\n",
      "Trace statistic:\n",
      "18 : [28.78187148  8.2735264 ]\n",
      "\n",
      "Eigen statistic:\n",
      "18 : [20.50834508  8.2735264 ]\n",
      "\n",
      "Trace statistic:\n",
      "19 : [31.83974584  7.52355904]\n",
      "\n",
      "Eigen statistic:\n",
      "19 : [24.3161868   7.52355904]\n",
      "\n",
      "Trace statistic:\n",
      "20 : [29.16926496  6.96495768]\n",
      "\n",
      "Eigen statistic:\n",
      "20 : [22.20430729  6.96495768]\n",
      "\n",
      "Trace statistic:\n",
      "21 : [27.91363576  6.50231084]\n",
      "\n",
      "Eigen statistic:\n",
      "21 : [21.41132492  6.50231084]\n",
      "\n",
      "Trace statistic:\n",
      "22 : [27.16048788  5.75460426]\n",
      "\n",
      "Eigen statistic:\n",
      "22 : [21.40588362  5.75460426]\n",
      "\n",
      "Trace statistic:\n",
      "23 : [36.58030776  5.31920983]\n",
      "\n",
      "Eigen statistic:\n",
      "23 : [31.26109793  5.31920983]\n",
      "\n",
      "Trace statistic:\n",
      "24 : [30.10988572  4.57499101]\n",
      "\n",
      "Eigen statistic:\n",
      "24 : [25.53489471  4.57499101]\n",
      "\n",
      "Trace statistic:\n",
      "25 : [32.2645039   7.12539598]\n",
      "\n",
      "Eigen statistic:\n",
      "25 : [25.13910792  7.12539598]\n",
      "\n",
      "Trace statistic:\n",
      "26 : [223.71263005  11.6095928 ]\n",
      "\n",
      "Eigen statistic:\n",
      "26 : [212.10303725  11.6095928 ]\n",
      "\n",
      "Trace statistic:\n",
      "27 : [         nan 175.63681329]\n",
      "\n",
      "Eigen statistic:\n",
      "27 : [         nan 175.63681329]\n"
     ]
    },
    {
     "name": "stderr",
     "output_type": "stream",
     "text": [
      "C:\\Users\\86189\\AppData\\Roaming\\Python\\Python310\\site-packages\\statsmodels\\tsa\\vector_ar\\vecm.py:731: RuntimeWarning: invalid value encountered in log\n",
      "  tmp = np.log(iota - a)[i:]\n",
      "C:\\Users\\86189\\AppData\\Roaming\\Python\\Python310\\site-packages\\statsmodels\\tsa\\vector_ar\\vecm.py:733: RuntimeWarning: invalid value encountered in log\n",
      "  lr2[i] = -t * np.log(1 - a[i])\n"
     ]
    },
    {
     "ename": "LinAlgError",
     "evalue": "Matrix is not positive definite",
     "output_type": "error",
     "traceback": [
      "\u001b[1;31m---------------------------------------------------------------------------\u001b[0m",
      "\u001b[1;31mLinAlgError\u001b[0m                               Traceback (most recent call last)",
      "Cell \u001b[1;32mIn[35], line 8\u001b[0m\n\u001b[0;32m      2\u001b[0m df \u001b[38;5;241m=\u001b[39m pd\u001b[38;5;241m.\u001b[39mDataFrame({\n\u001b[0;32m      3\u001b[0m     \u001b[38;5;124m'\u001b[39m\u001b[38;5;124minflation_expectations_diff\u001b[39m\u001b[38;5;124m'\u001b[39m: inflation_expectations_diff[index:],\n\u001b[0;32m      4\u001b[0m     \u001b[38;5;124m'\u001b[39m\u001b[38;5;124moil_prices_diff\u001b[39m\u001b[38;5;124m'\u001b[39m: oil_prices_diff[index:]\n\u001b[0;32m      5\u001b[0m })\n\u001b[0;32m      7\u001b[0m \u001b[38;5;66;03m# Perform Johansen cointegration test\u001b[39;00m\n\u001b[1;32m----> 8\u001b[0m result \u001b[38;5;241m=\u001b[39m \u001b[43mcoint_johansen\u001b[49m\u001b[43m(\u001b[49m\u001b[43mdf\u001b[49m\u001b[43m,\u001b[49m\u001b[43m \u001b[49m\u001b[43mdet_order\u001b[49m\u001b[38;5;241;43m=\u001b[39;49m\u001b[38;5;241;43m0\u001b[39;49m\u001b[43m,\u001b[49m\u001b[43m \u001b[49m\u001b[43mk_ar_diff\u001b[49m\u001b[38;5;241;43m=\u001b[39;49m\u001b[38;5;241;43m1\u001b[39;49m\u001b[43m)\u001b[49m\n\u001b[0;32m     10\u001b[0m \u001b[38;5;66;03m# Print the results\u001b[39;00m\n\u001b[0;32m     11\u001b[0m \u001b[38;5;28mprint\u001b[39m(\u001b[38;5;124m\"\u001b[39m\u001b[38;5;130;01m\\n\u001b[39;00m\u001b[38;5;124mTrace statistic:\u001b[39m\u001b[38;5;124m\"\u001b[39m)\n",
      "File \u001b[1;32m~\\AppData\\Roaming\\Python\\Python310\\site-packages\\statsmodels\\tsa\\vector_ar\\vecm.py:709\u001b[0m, in \u001b[0;36mcoint_johansen\u001b[1;34m(endog, det_order, k_ar_diff)\u001b[0m\n\u001b[0;32m    706\u001b[0m tmp \u001b[38;5;241m=\u001b[39m inv(skk)\n\u001b[0;32m    707\u001b[0m au, du \u001b[38;5;241m=\u001b[39m np\u001b[38;5;241m.\u001b[39mlinalg\u001b[38;5;241m.\u001b[39meig(np\u001b[38;5;241m.\u001b[39mdot(tmp, sig))  \u001b[38;5;66;03m# au is eval, du is evec\u001b[39;00m\n\u001b[1;32m--> 709\u001b[0m temp \u001b[38;5;241m=\u001b[39m inv(\u001b[43mnp\u001b[49m\u001b[38;5;241;43m.\u001b[39;49m\u001b[43mlinalg\u001b[49m\u001b[38;5;241;43m.\u001b[39;49m\u001b[43mcholesky\u001b[49m\u001b[43m(\u001b[49m\u001b[43mnp\u001b[49m\u001b[38;5;241;43m.\u001b[39;49m\u001b[43mdot\u001b[49m\u001b[43m(\u001b[49m\u001b[43mdu\u001b[49m\u001b[38;5;241;43m.\u001b[39;49m\u001b[43mT\u001b[49m\u001b[43m,\u001b[49m\u001b[43m \u001b[49m\u001b[43mnp\u001b[49m\u001b[38;5;241;43m.\u001b[39;49m\u001b[43mdot\u001b[49m\u001b[43m(\u001b[49m\u001b[43mskk\u001b[49m\u001b[43m,\u001b[49m\u001b[43m \u001b[49m\u001b[43mdu\u001b[49m\u001b[43m)\u001b[49m\u001b[43m)\u001b[49m\u001b[43m)\u001b[49m)\n\u001b[0;32m    710\u001b[0m dt \u001b[38;5;241m=\u001b[39m np\u001b[38;5;241m.\u001b[39mdot(du, temp)\n\u001b[0;32m    712\u001b[0m \u001b[38;5;66;03m# JP: the next part can be done much  easier\u001b[39;00m\n",
      "File \u001b[1;32m<__array_function__ internals>:180\u001b[0m, in \u001b[0;36mcholesky\u001b[1;34m(*args, **kwargs)\u001b[0m\n",
      "File \u001b[1;32m~\\AppData\\Roaming\\Python\\Python310\\site-packages\\numpy\\linalg\\linalg.py:770\u001b[0m, in \u001b[0;36mcholesky\u001b[1;34m(a)\u001b[0m\n\u001b[0;32m    768\u001b[0m t, result_t \u001b[38;5;241m=\u001b[39m _commonType(a)\n\u001b[0;32m    769\u001b[0m signature \u001b[38;5;241m=\u001b[39m \u001b[38;5;124m'\u001b[39m\u001b[38;5;124mD->D\u001b[39m\u001b[38;5;124m'\u001b[39m \u001b[38;5;28;01mif\u001b[39;00m isComplexType(t) \u001b[38;5;28;01melse\u001b[39;00m \u001b[38;5;124m'\u001b[39m\u001b[38;5;124md->d\u001b[39m\u001b[38;5;124m'\u001b[39m\n\u001b[1;32m--> 770\u001b[0m r \u001b[38;5;241m=\u001b[39m \u001b[43mgufunc\u001b[49m\u001b[43m(\u001b[49m\u001b[43ma\u001b[49m\u001b[43m,\u001b[49m\u001b[43m \u001b[49m\u001b[43msignature\u001b[49m\u001b[38;5;241;43m=\u001b[39;49m\u001b[43msignature\u001b[49m\u001b[43m,\u001b[49m\u001b[43m \u001b[49m\u001b[43mextobj\u001b[49m\u001b[38;5;241;43m=\u001b[39;49m\u001b[43mextobj\u001b[49m\u001b[43m)\u001b[49m\n\u001b[0;32m    771\u001b[0m \u001b[38;5;28;01mreturn\u001b[39;00m wrap(r\u001b[38;5;241m.\u001b[39mastype(result_t, copy\u001b[38;5;241m=\u001b[39m\u001b[38;5;28;01mFalse\u001b[39;00m))\n",
      "File \u001b[1;32m~\\AppData\\Roaming\\Python\\Python310\\site-packages\\numpy\\linalg\\linalg.py:92\u001b[0m, in \u001b[0;36m_raise_linalgerror_nonposdef\u001b[1;34m(err, flag)\u001b[0m\n\u001b[0;32m     91\u001b[0m \u001b[38;5;28;01mdef\u001b[39;00m \u001b[38;5;21m_raise_linalgerror_nonposdef\u001b[39m(err, flag):\n\u001b[1;32m---> 92\u001b[0m     \u001b[38;5;28;01mraise\u001b[39;00m LinAlgError(\u001b[38;5;124m\"\u001b[39m\u001b[38;5;124mMatrix is not positive definite\u001b[39m\u001b[38;5;124m\"\u001b[39m)\n",
      "\u001b[1;31mLinAlgError\u001b[0m: Matrix is not positive definite"
     ]
    }
   ],
   "source": [
    "for index in range(31):\n",
    "    df = pd.DataFrame({\n",
    "        'inflation_expectations_diff': inflation_expectations_diff[index:],\n",
    "        'oil_prices_diff': oil_prices_diff[index:]\n",
    "    })\n",
    "\n",
    "    # Perform Johansen cointegration test\n",
    "    result = coint_johansen(df, det_order=0, k_ar_diff=1)\n",
    "\n",
    "    # Print the results\n",
    "    print(\"\\nTrace statistic:\")\n",
    "    print(index, \":\", result.lr1)\n",
    "\n",
    "    print(\"\\nEigen statistic:\")\n",
    "    print(index, \":\", result.lr2)"
   ]
  },
  {
   "cell_type": "code",
   "execution_count": null,
   "id": "a733e7df",
   "metadata": {},
   "outputs": [],
   "source": []
  }
 ],
 "metadata": {
  "kernelspec": {
   "display_name": "Python 3 (ipykernel)",
   "language": "python",
   "name": "python3"
  },
  "language_info": {
   "codemirror_mode": {
    "name": "ipython",
    "version": 3
   },
   "file_extension": ".py",
   "mimetype": "text/x-python",
   "name": "python",
   "nbconvert_exporter": "python",
   "pygments_lexer": "ipython3",
   "version": "3.10.6"
  }
 },
 "nbformat": 4,
 "nbformat_minor": 5
}
